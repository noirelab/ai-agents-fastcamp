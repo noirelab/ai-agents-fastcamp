{
 "cells": [
  {
   "cell_type": "code",
   "execution_count": 1,
   "id": "ecf23da3",
   "metadata": {},
   "outputs": [
    {
     "name": "stdout",
     "output_type": "stream",
     "text": [
      "Requirement already satisfied: groq in c:\\users\\kaiqu\\miniconda3\\envs\\tf-env\\lib\\site-packages (0.25.0)\n",
      "Requirement already satisfied: anyio<5,>=3.5.0 in c:\\users\\kaiqu\\miniconda3\\envs\\tf-env\\lib\\site-packages (from groq) (4.9.0)\n",
      "Requirement already satisfied: distro<2,>=1.7.0 in c:\\users\\kaiqu\\miniconda3\\envs\\tf-env\\lib\\site-packages (from groq) (1.9.0)\n",
      "Requirement already satisfied: httpx<1,>=0.23.0 in c:\\users\\kaiqu\\miniconda3\\envs\\tf-env\\lib\\site-packages (from groq) (0.28.1)\n",
      "Requirement already satisfied: pydantic<3,>=1.9.0 in c:\\users\\kaiqu\\miniconda3\\envs\\tf-env\\lib\\site-packages (from groq) (2.11.5)\n",
      "Requirement already satisfied: sniffio in c:\\users\\kaiqu\\miniconda3\\envs\\tf-env\\lib\\site-packages (from groq) (1.3.1)\n",
      "Requirement already satisfied: typing-extensions<5,>=4.10 in c:\\users\\kaiqu\\miniconda3\\envs\\tf-env\\lib\\site-packages (from groq) (4.13.2)\n",
      "Requirement already satisfied: exceptiongroup>=1.0.2 in c:\\users\\kaiqu\\miniconda3\\envs\\tf-env\\lib\\site-packages (from anyio<5,>=3.5.0->groq) (1.2.2)\n",
      "Requirement already satisfied: idna>=2.8 in c:\\users\\kaiqu\\miniconda3\\envs\\tf-env\\lib\\site-packages (from anyio<5,>=3.5.0->groq) (3.10)\n",
      "Requirement already satisfied: certifi in c:\\users\\kaiqu\\miniconda3\\envs\\tf-env\\lib\\site-packages (from httpx<1,>=0.23.0->groq) (2025.4.26)\n",
      "Requirement already satisfied: httpcore==1.* in c:\\users\\kaiqu\\miniconda3\\envs\\tf-env\\lib\\site-packages (from httpx<1,>=0.23.0->groq) (1.0.9)\n",
      "Requirement already satisfied: h11>=0.16 in c:\\users\\kaiqu\\miniconda3\\envs\\tf-env\\lib\\site-packages (from httpcore==1.*->httpx<1,>=0.23.0->groq) (0.16.0)\n",
      "Requirement already satisfied: annotated-types>=0.6.0 in c:\\users\\kaiqu\\miniconda3\\envs\\tf-env\\lib\\site-packages (from pydantic<3,>=1.9.0->groq) (0.7.0)\n",
      "Requirement already satisfied: pydantic-core==2.33.2 in c:\\users\\kaiqu\\miniconda3\\envs\\tf-env\\lib\\site-packages (from pydantic<3,>=1.9.0->groq) (2.33.2)\n",
      "Requirement already satisfied: typing-inspection>=0.4.0 in c:\\users\\kaiqu\\miniconda3\\envs\\tf-env\\lib\\site-packages (from pydantic<3,>=1.9.0->groq) (0.4.1)\n",
      "Note: you may need to restart the kernel to use updated packages.\n"
     ]
    }
   ],
   "source": [
    "%pip install groq"
   ]
  },
  {
   "cell_type": "code",
   "execution_count": null,
   "id": "43d526f7",
   "metadata": {},
   "outputs": [],
   "source": [
    "import os\n",
    "\n",
    "os.environ[\"GROQ_API_KEY\"] = \"API_KEY\""
   ]
  },
  {
   "cell_type": "code",
   "execution_count": null,
   "id": "898f4fd3",
   "metadata": {},
   "outputs": [
    {
     "name": "stdout",
     "output_type": "stream",
     "text": [
      "Fast language models are crucial in Artificial Intelligence (AI) due to their ability to process and analyze large amounts of human language quickly, accurately, and efficiently. Here are some reasons why fast language models are important in AI:\n",
      "\n",
      "1. **Improved Efficiency**: Fast language models enable machines to process language data quickly, allowing them to respond, make decisions, and complete tasks more rapidly. This is critical in applications such as customer service chatbots, where timely responses are essential.\n",
      "2. **Enhanced User Experience**: Fast language models enable AI systems to understand and respond to user input in real-time, leading to more natural and engaging human-computer interactions.\n",
      "3. **Scalability**: Fast language models can handle large volumes of language data, making them suitable for applications such as language translation, sentiment analysis, and text summarization.\n",
      "4. **Real-time Insights**: Fast language models can analyze and provide instant insights from large datasets, enabling applications such as social media monitoring, brand reputation management, and trend analysis.\n",
      "5. **Competitive Advantage**: Organizations that can process and analyze language data quickly can gain a competitive advantage over those that cannot.\n",
      "6. **Improved Accuracy**: Fast language models can be trained on larger datasets, leading to improved accuracy and reliability in applications such as natural language processing (NLP), speech recognition, and machine translation.\n",
      "8. **Multitasking**: Fast language models can perform multiple tasks simultaneously, such as generating responses, analyzing sentiment, and detecting entities, which improves the overall efficiency of AI applications.\n",
      "9. **Making**: Fast language models enable AI systems to make decisions quickly, which is critical in applications such as autonomous vehicles, medical diagnosis, and financial trading.\n",
      "10. **Research and Development**: Fast language models can accelerate research in AI, enabling researchers to experiment and iterate more quickly, leading to new breakthroughs and innovations.\n",
      "\n",
      "Some examples of fast language models include:\n",
      "\n",
      "* BERT (Bidirectional Encoder Representations from Transformers) and its variants, which have achieved state-of-the-art results in many NLP tasks.\n",
      "* Transformers, which have been used to achieve state-of-the-art results in machine translation, text classification, and language modeling tasks.\n",
      "* Language Models like RoBERTa, which have achieved state-of-the-art results in many NLP tasks, including language translation, sentiment analysis, and more.\n",
      "\n",
      "In summary, fast language models are essential in AI because they enable machines to process and analyze language data quickly, accurately, and efficiently, leading to improved efficiency, enhanced user experiences, and competitive advantages in various applications.\n"
     ]
    }
   ],
   "source": [
    "from groq import Groq\n",
    "\n",
    "client = Groq(\n",
    "    api_key=os.environ.get(\"GROQ_API_KEY\"),\n",
    ")\n",
    "\n",
    "chat_completion = client.chat.completions.create(\n",
    "    messages = [\n",
    "        {\n",
    "            \"role\": \"user\",\n",
    "            \"content\": \"Explain the importance of fast language models in AI.\"\n",
    "        }\n",
    "    ],\n",
    "    model = \"llama3-70b-8192\",\n",
    ")\n",
    "\n",
    "# print a completação, sendo a primeira opção, pega a mensagem dentro e o conteúdo dela\n",
    "print(chat_completion.choices[0].message.content)"
   ]
  },
  {
   "cell_type": "code",
   "execution_count": 4,
   "id": "78a5cb2d",
   "metadata": {},
   "outputs": [],
   "source": [
    "class Agent:\n",
    "    def __init__(self, client, system):\n",
    "        self.client = client\n",
    "        self.system = system\n",
    "        self.messages = []\n",
    "        if self.system is not None:\n",
    "            self.messages.append({\"role\": \"system\", \"content\": self.system})\n",
    "\n",
    "    def __call__(self, message=''):\n",
    "        if message:\n",
    "            self.messages.append({\"role\": \"user\", \"content\": message})\n",
    "        result = self.execute()\n",
    "        self.messages.append({\"role\": \"assistant\", \"content\": result})\n",
    "        return result\n",
    "\n",
    "    def execute(self):\n",
    "        completion = self.client.chat.completions.create(\n",
    "            messages=self.messages,\n",
    "            model=\"llama3-70b-8192\",\n",
    "        )\n",
    "        return completion.choices[0].message.content"
   ]
  },
  {
   "cell_type": "code",
   "execution_count": null,
   "id": "06c3314d",
   "metadata": {},
   "outputs": [],
   "source": [
    "# no código prático é diferente, optei por utilizar uma chamada de verificação de quantidade de proteína em 100g de peito de frango\n",
    "system_prompt = \"\"\"\n",
    "You run in a loop of Thought, Action, PAUSE, Observation.\n",
    "At the end of the loop you output an Answer\n",
    "Use Thought to describe your thoughts about the question you have been asked.\n",
    "Use Action to run one of the actions available to you – then return PAUSE.\n",
    "Observation will be the result of running those actions.\n",
    "\n",
    "Your available actions are:\n",
    "\n",
    "calculate:\n",
    "e.g. calculate: 4 * 7 / 3\n",
    "Runs a calculation and returns the number – uses Python so be sure to use floating point syntax if necessary\n",
    "\n",
    "get_protein:\n",
    "e.g. get_protein: Chicken\n",
    "returns the protein content of the food in grams:\n",
    "\n",
    "Question: What is the amount of protein in 300g of chicken breast?\n",
    "Action: get_protein: chicken\n",
    "PAUSE\n",
    "\n",
    "You will be called again with this:\n",
    "\n",
    "Observation: The protein content of 100g of chicken breast is 31g\n",
    "Thought: I need to output the answer\n",
    "\n",
    "Thought: I need to multiply that by 3\n",
    "Action: calculate: 31 * 3\n",
    "PAUSE\n",
    "\n",
    "Observation: 93\n",
    "Thought: I need to output the answer\n",
    "Answer: The amount of protein in 300g of chicken breast is 93g\n",
    "\n",
    "\"\"\".strip()"
   ]
  },
  {
   "cell_type": "code",
   "execution_count": null,
   "id": "9187cb1f",
   "metadata": {},
   "outputs": [],
   "source": [
    "# tools\n",
    "def calculate(operation):\n",
    "    return eval(operation)\n",
    "\n",
    "# tive que adaptar o dicionário pra frango, boi e ovo\n",
    "def get_protein(animal):\n",
    "    protein = {\n",
    "        \"chicken\": 31.0,\n",
    "        \"beef\": 26.0,\n",
    "        \"egg\": 6\n",
    "    }\n",
    "    return protein.get(animal.lower(), 0.0)\n"
   ]
  },
  {
   "cell_type": "code",
   "execution_count": null,
   "id": "4a944f4c",
   "metadata": {},
   "outputs": [],
   "source": [
    "# troquei o nome do agente para paulo_muzy\n",
    "paulo_muzy = Agent(client, system_prompt)"
   ]
  },
  {
   "cell_type": "code",
   "execution_count": null,
   "id": "6afba205",
   "metadata": {},
   "outputs": [
    {
     "name": "stdout",
     "output_type": "stream",
     "text": [
      "Thought: I need to calculate the protein content of chicken breast, but I don't have that information.\n",
      "\n",
      "Action: get_protein: chicken\n",
      "PAUSE\n"
     ]
    }
   ],
   "source": [
    "result = paulo_muzy(\"What is the amount of protein in 300g of chicken breast?\") # vai executar a call\n",
    "print(result)"
   ]
  },
  {
   "cell_type": "code",
   "execution_count": 9,
   "id": "b390174c",
   "metadata": {},
   "outputs": [
    {
     "data": {
      "text/plain": [
       "[{'role': 'system',\n",
       "  'content': 'You run in a loop of Thought, Action, PAUSE, Observation.\\nAt the end of the loop you output an Answer\\nUse Thought to describe your thoughts about the question you have been asked.\\nUse Action to run one of the actions available to you – then return PAUSE.\\nObservation will be the result of running those actions.\\n\\nYour available actions are:\\n\\ncalculate:\\ne.g. calculate: 4 * 7 / 3\\nRuns a calculation and returns the number – uses Python so be sure to use floating point syntax if necessary\\n\\nget_protein:\\ne.g. get_protein: Chicken\\nreturns the protein content of the food in grams:\\n\\nQuestion: What is the amount of protein in 300g of chicken breast?\\nAction: get_protein: chicken\\nPAUSE\\n\\nYou will be called again with this:\\n\\nObservation: The protein content of 100g of chicken breast is 31g\\nThought: I need to output the answer\\n\\nThought: I need to multiply that by 3\\nAction: calculate: 31 * 3\\nPAUSE\\n\\nObservation: 93\\nThought: I need to output the answer\\nAnswer: The amount of protein in 300g of chicken breast is 93g'},\n",
       " {'role': 'user',\n",
       "  'content': 'What is the amount of protein in 300g of chicken breast?'},\n",
       " {'role': 'assistant',\n",
       "  'content': \"Thought: I need to calculate the protein content of chicken breast, but I don't have that information.\\n\\nAction: get_protein: chicken\\nPAUSE\"}]"
      ]
     },
     "execution_count": 9,
     "metadata": {},
     "output_type": "execute_result"
    }
   ],
   "source": [
    "paulo_muzy.messages"
   ]
  },
  {
   "cell_type": "code",
   "execution_count": 10,
   "id": "8bb7dd79",
   "metadata": {},
   "outputs": [
    {
     "name": "stdout",
     "output_type": "stream",
     "text": [
      "\n"
     ]
    }
   ],
   "source": [
    "# roda de novo com a mensagem que já está appended\n",
    "result = paulo_muzy()\n",
    "print(result)"
   ]
  },
  {
   "cell_type": "code",
   "execution_count": 11,
   "id": "ff62515b",
   "metadata": {},
   "outputs": [
    {
     "name": "stdout",
     "output_type": "stream",
     "text": [
      "31.0\n"
     ]
    }
   ],
   "source": [
    "observation = get_protein(\"chicken\")\n",
    "print(observation)"
   ]
  },
  {
   "cell_type": "code",
   "execution_count": 12,
   "id": "0d268f76",
   "metadata": {},
   "outputs": [
    {
     "name": "stdout",
     "output_type": "stream",
     "text": [
      "Thought: I need to multiply that by 3 to get the protein content for 300g.\n",
      "\n",
      "Action: calculate: 31.0 * 3\n",
      "PAUSE\n"
     ]
    }
   ],
   "source": [
    "next_prompt = f\"Observation: {observation}\"\n",
    "result = paulo_muzy(next_prompt)\n",
    "print(result)"
   ]
  },
  {
   "cell_type": "code",
   "execution_count": 13,
   "id": "51915432",
   "metadata": {},
   "outputs": [
    {
     "data": {
      "text/plain": [
       "[{'role': 'system',\n",
       "  'content': 'You run in a loop of Thought, Action, PAUSE, Observation.\\nAt the end of the loop you output an Answer\\nUse Thought to describe your thoughts about the question you have been asked.\\nUse Action to run one of the actions available to you – then return PAUSE.\\nObservation will be the result of running those actions.\\n\\nYour available actions are:\\n\\ncalculate:\\ne.g. calculate: 4 * 7 / 3\\nRuns a calculation and returns the number – uses Python so be sure to use floating point syntax if necessary\\n\\nget_protein:\\ne.g. get_protein: Chicken\\nreturns the protein content of the food in grams:\\n\\nQuestion: What is the amount of protein in 300g of chicken breast?\\nAction: get_protein: chicken\\nPAUSE\\n\\nYou will be called again with this:\\n\\nObservation: The protein content of 100g of chicken breast is 31g\\nThought: I need to output the answer\\n\\nThought: I need to multiply that by 3\\nAction: calculate: 31 * 3\\nPAUSE\\n\\nObservation: 93\\nThought: I need to output the answer\\nAnswer: The amount of protein in 300g of chicken breast is 93g'},\n",
       " {'role': 'user',\n",
       "  'content': 'What is the amount of protein in 300g of chicken breast?'},\n",
       " {'role': 'assistant',\n",
       "  'content': \"Thought: I need to calculate the protein content of chicken breast, but I don't have that information.\\n\\nAction: get_protein: chicken\\nPAUSE\"},\n",
       " {'role': 'assistant', 'content': ''},\n",
       " {'role': 'user', 'content': 'Observation: 31.0'},\n",
       " {'role': 'assistant',\n",
       "  'content': 'Thought: I need to multiply that by 3 to get the protein content for 300g.\\n\\nAction: calculate: 31.0 * 3\\nPAUSE'}]"
      ]
     },
     "execution_count": 13,
     "metadata": {},
     "output_type": "execute_result"
    }
   ],
   "source": [
    "paulo_muzy.messages"
   ]
  },
  {
   "cell_type": "code",
   "execution_count": 14,
   "id": "ede78d00",
   "metadata": {},
   "outputs": [
    {
     "name": "stdout",
     "output_type": "stream",
     "text": [
      "\n"
     ]
    }
   ],
   "source": [
    "result = paulo_muzy()\n",
    "print(result)"
   ]
  },
  {
   "cell_type": "code",
   "execution_count": 15,
   "id": "99580cb6",
   "metadata": {},
   "outputs": [
    {
     "name": "stdout",
     "output_type": "stream",
     "text": [
      "93\n"
     ]
    }
   ],
   "source": [
    "observation = calculate(\"31 * 3\")\n",
    "print(observation)"
   ]
  },
  {
   "cell_type": "code",
   "execution_count": 16,
   "id": "3504d190",
   "metadata": {},
   "outputs": [
    {
     "name": "stdout",
     "output_type": "stream",
     "text": [
      "Thought: I have the answer now.\n",
      "\n",
      "Answer: The amount of protein in 300g of chicken breast is 93g\n"
     ]
    }
   ],
   "source": [
    "next_prompt = f\"Observation: {observation}\"\n",
    "result = paulo_muzy(next_prompt)\n",
    "print(result)"
   ]
  },
  {
   "cell_type": "code",
   "execution_count": 17,
   "id": "4854ea2a",
   "metadata": {},
   "outputs": [
    {
     "name": "stdout",
     "output_type": "stream",
     "text": [
      ".\n"
     ]
    }
   ],
   "source": [
    "result = paulo_muzy()\n",
    "print(result)"
   ]
  },
  {
   "cell_type": "code",
   "execution_count": 18,
   "id": "9d7c4c38",
   "metadata": {},
   "outputs": [
    {
     "data": {
      "text/plain": [
       "[{'role': 'system',\n",
       "  'content': 'You run in a loop of Thought, Action, PAUSE, Observation.\\nAt the end of the loop you output an Answer\\nUse Thought to describe your thoughts about the question you have been asked.\\nUse Action to run one of the actions available to you – then return PAUSE.\\nObservation will be the result of running those actions.\\n\\nYour available actions are:\\n\\ncalculate:\\ne.g. calculate: 4 * 7 / 3\\nRuns a calculation and returns the number – uses Python so be sure to use floating point syntax if necessary\\n\\nget_protein:\\ne.g. get_protein: Chicken\\nreturns the protein content of the food in grams:\\n\\nQuestion: What is the amount of protein in 300g of chicken breast?\\nAction: get_protein: chicken\\nPAUSE\\n\\nYou will be called again with this:\\n\\nObservation: The protein content of 100g of chicken breast is 31g\\nThought: I need to output the answer\\n\\nThought: I need to multiply that by 3\\nAction: calculate: 31 * 3\\nPAUSE\\n\\nObservation: 93\\nThought: I need to output the answer\\nAnswer: The amount of protein in 300g of chicken breast is 93g'},\n",
       " {'role': 'user',\n",
       "  'content': 'What is the amount of protein in 300g of chicken breast?'},\n",
       " {'role': 'assistant',\n",
       "  'content': \"Thought: I need to calculate the protein content of chicken breast, but I don't have that information.\\n\\nAction: get_protein: chicken\\nPAUSE\"},\n",
       " {'role': 'assistant', 'content': ''},\n",
       " {'role': 'user', 'content': 'Observation: 31.0'},\n",
       " {'role': 'assistant',\n",
       "  'content': 'Thought: I need to multiply that by 3 to get the protein content for 300g.\\n\\nAction: calculate: 31.0 * 3\\nPAUSE'},\n",
       " {'role': 'assistant', 'content': ''},\n",
       " {'role': 'user', 'content': 'Observation: 93'},\n",
       " {'role': 'assistant',\n",
       "  'content': 'Thought: I have the answer now.\\n\\nAnswer: The amount of protein in 300g of chicken breast is 93g'},\n",
       " {'role': 'assistant', 'content': '.'}]"
      ]
     },
     "execution_count": 18,
     "metadata": {},
     "output_type": "execute_result"
    }
   ],
   "source": [
    "paulo_muzy.messages"
   ]
  },
  {
   "cell_type": "code",
   "execution_count": null,
   "id": "b28b9e1d",
   "metadata": {},
   "outputs": [],
   "source": [
    "import re\n",
    "result = \"\"\"\n",
    "Action: calculate: 31 * 3\n",
    "\"\"\"\n",
    "pattern = r\"Action:\\s*([a-z_]+):\\s*(.+)\" # tive que adaptar o regex também\n",
    "action = re.findall(pattern, result, re.IGNORECASE)"
   ]
  },
  {
   "cell_type": "code",
   "execution_count": 20,
   "id": "29f05c90",
   "metadata": {},
   "outputs": [
    {
     "data": {
      "text/plain": [
       "[('calculate', '31 * 3')]"
      ]
     },
     "execution_count": 20,
     "metadata": {},
     "output_type": "execute_result"
    }
   ],
   "source": [
    "action"
   ]
  },
  {
   "cell_type": "code",
   "execution_count": null,
   "id": "5278fb00",
   "metadata": {},
   "outputs": [],
   "source": [
    "import re\n",
    "\n",
    "# aqui se manteve o mesmo, pois a quantidade de ações foi a mesma\n",
    "def agent_loop(max_iterations, system, query):\n",
    "    agent = Agent(client, system_prompt)\n",
    "    tools = ['calculate', 'get_protein']\n",
    "    next_prompt = f\"Q: {query}\"\n",
    "    i = 0\n",
    "\n",
    "    while i < max_iterations:\n",
    "        i += 1\n",
    "        result = agent(next_prompt)\n",
    "        print(f\"Result: {result}\")\n",
    "\n",
    "        if \"PAUSE\" in result and \"Action\" in result:\n",
    "            chosen_tool = action[0][0]\n",
    "            arg = action[0][1]\n",
    "\n",
    "            if chosen_tool in tools:\n",
    "                result_tool = eval(f'{chosen_tool}(\"{arg}\")')\n",
    "                next_prompt = f'observation: {result_tool}'\n",
    "\n",
    "            else:\n",
    "                next_prompt = f'observation: tool not found'\n",
    "\n",
    "            print(f\"Next prompt: {next_prompt}\")\n",
    "            continue\n",
    "        if \"Answer\" in result:\n",
    "            break"
   ]
  },
  {
   "cell_type": "code",
   "execution_count": 22,
   "id": "fd38403a",
   "metadata": {},
   "outputs": [
    {
     "name": "stdout",
     "output_type": "stream",
     "text": [
      "Result: Thought: I need to find the protein content of chicken breast and then scale it up to 300g.\n",
      "\n",
      "Action: get_protein: chicken\n",
      "PAUSE\n",
      "Next prompt: observation: 93\n",
      "Result: Thought: Wait, that can't be right. I was expecting the protein content of 100g of chicken breast.\n",
      "\n",
      "Action: get_protein: chicken\n",
      "PAUSE\n",
      "Next prompt: observation: 93\n",
      "Result: Thought: Still not right. Ah, I remember. The protein content of 100g of chicken breast by 3 to get the amount in 300g.\n",
      "\n",
      "Action: calculate: 31 * 3\n",
      "PAUSE\n",
      "Next prompt: observation: 93\n",
      "Result: Thought: I need to output the answer\n",
      "\n",
      "Answer: The amount of protein in 300g of chicken breast is 93g\n"
     ]
    }
   ],
   "source": [
    "agent_loop(10, system_prompt, \"What is the amount of protein in 300g of chicken breast?\")"
   ]
  },
  {
   "cell_type": "code",
   "execution_count": null,
   "id": "37431ad1",
   "metadata": {},
   "outputs": [],
   "source": []
  }
 ],
 "metadata": {
  "kernelspec": {
   "display_name": "tf-env",
   "language": "python",
   "name": "python3"
  },
  "language_info": {
   "codemirror_mode": {
    "name": "ipython",
    "version": 3
   },
   "file_extension": ".py",
   "mimetype": "text/x-python",
   "name": "python",
   "nbconvert_exporter": "python",
   "pygments_lexer": "ipython3",
   "version": "3.9.21"
  }
 },
 "nbformat": 4,
 "nbformat_minor": 5
}
