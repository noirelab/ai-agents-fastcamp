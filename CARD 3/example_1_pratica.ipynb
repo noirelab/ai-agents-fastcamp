{
 "cells": [
  {
   "cell_type": "code",
   "execution_count": 1,
   "id": "15cf3980",
   "metadata": {},
   "outputs": [],
   "source": [
    "from enum import auto, IntFlag\n",
    "from typing import Any\n",
    "\n",
    "# importações do pydantic\n",
    "from pydantic import (\n",
    "    BaseModel,\n",
    "    EmailStr,\n",
    "    Field,\n",
    "    SecretStr,\n",
    "    ValidationError,\n",
    ")"
   ]
  },
  {
   "cell_type": "code",
   "execution_count": 2,
   "id": "8230ad5b",
   "metadata": {},
   "outputs": [],
   "source": [
    "# adicionarei mais uma role para a prática\n",
    "class Role(IntFlag):\n",
    "    Author = auto()\n",
    "    Editor = auto()\n",
    "    Developer = auto()\n",
    "    Reviser = Author | Editor # reviser é Author ou Editor\n",
    "    Admin = Author | Editor | Developer # é todos"
   ]
  },
  {
   "cell_type": "code",
   "execution_count": null,
   "id": "ecaaf726",
   "metadata": {},
   "outputs": [],
   "source": [
    "# herda da classe do pydantic\n",
    "class User(BaseModel):\n",
    "    name: str = Field(examples=[\"Arjan\"])\n",
    "    email: EmailStr = Field(\n",
    "        examples=[\"kaiquelima@alunos.utfpr.edu.br\"],    # manda um exemplo pela função Field\n",
    "        description=\"Endereço de email do usuário\",     # descrição do campo\n",
    "        frozen=True,                                    # só seta, não altera\n",
    "    )\n",
    "\n",
    "    # quando printar a senha, mostra *****\n",
    "    password: SecretStr = Field(\n",
    "        examples=[\"kai123\"], description=\"Senha do usuário\"\n",
    "    )\n",
    "\n",
    "    role: Role = Field(\n",
    "        default=None, description=\"Cargo do usuário\"\n",
    "    )\n",
    "\n",
    "    # adição de um campo obrigatório\n",
    "    especie : str = Field(\n",
    "        description=\"Espécie do usuário\", examples=[\"Humano\", \"Robô\", \"Alienígena\"]\n",
    "    )\n",
    "\n",
    "    # cargo prático - gênero e idade\n",
    "    genero: str = Field(\n",
    "        default=None, description=\"Gênero do usuário\"\n",
    "    )\n",
    "\n",
    "    idade: int = Field(\n",
    "        default=None, description=\"Idade do usuário\"\n",
    "    )\n"
   ]
  },
  {
   "cell_type": "code",
   "execution_count": 9,
   "id": "13ee16e0",
   "metadata": {},
   "outputs": [],
   "source": [
    "# função para validar os dados\n",
    "\n",
    "def validate(data: dict[str, Any]) -> None:\n",
    "    try:\n",
    "        user = User.model_validate(data)\n",
    "        print(user)\n",
    "\n",
    "    except ValidationError as e: # se inválido, printa todos os erros\n",
    "        print(\"User is invalid\")\n",
    "\n",
    "        for error in e.errors():\n",
    "            print(error)"
   ]
  },
  {
   "cell_type": "code",
   "execution_count": null,
   "id": "bdd15d20",
   "metadata": {},
   "outputs": [
    {
     "name": "stdout",
     "output_type": "stream",
     "text": [
      "-- good_data --\n",
      "name='Kaique' email='kaiquelima@alunos.utfpr.edu.br' password=SecretStr('**********') role=<Role.Admin: 7> especie='Humano' genero='Masculino' idade=20\n",
      "\n",
      "-- bad_data --\n",
      "User is invalid\n",
      "{'type': 'missing', 'loc': ('name',), 'msg': 'Field required', 'input': {'email': '@abobrinha.com', 'password': 'abobrinha1123'}, 'url': 'https://errors.pydantic.dev/2.10/v/missing'}\n",
      "{'type': 'value_error', 'loc': ('email',), 'msg': 'value is not a valid email address: There must be something before the @-sign.', 'input': '@abobrinha.com', 'ctx': {'reason': 'There must be something before the @-sign.'}}\n",
      "{'type': 'missing', 'loc': ('especie',), 'msg': 'Field required', 'input': {'email': '@abobrinha.com', 'password': 'abobrinha1123'}, 'url': 'https://errors.pydantic.dev/2.10/v/missing'}\n"
     ]
    }
   ],
   "source": [
    "good_data = {\n",
    "    \"name\": \"Kaique\",\n",
    "    \"email\": \"kaiquelima@alunos.utfpr.edu.br\",\n",
    "    \"password\": \"kai123\",\n",
    "    \"especie\": \"Humano\",\n",
    "    \"role\": Role.Admin,\n",
    "    \"genero\": \"Masculino\",\n",
    "    \"idade\": 20\n",
    "}\n",
    "\n",
    "bad_data = {\"email\": \"@abobrinha.com\", \"password\": \"abobrinha1123\"}\n",
    "\n",
    "# validou que os dados estão corretos e printou a senha com ***\n",
    "print('-- good_data --')\n",
    "validate(good_data)\n",
    "\n",
    "# validou que os dados estão incorretos e printou os erros\n",
    "# deu errado pois não tem usuário, nem especie e o email ta errado\n",
    "print('\\n-- bad_data --')\n",
    "validate(bad_data)"
   ]
  },
  {
   "cell_type": "code",
   "execution_count": null,
   "id": "0b0723d3",
   "metadata": {},
   "outputs": [],
   "source": []
  }
 ],
 "metadata": {
  "kernelspec": {
   "display_name": "base",
   "language": "python",
   "name": "python3"
  },
  "language_info": {
   "codemirror_mode": {
    "name": "ipython",
    "version": 3
   },
   "file_extension": ".py",
   "mimetype": "text/x-python",
   "name": "python",
   "nbconvert_exporter": "python",
   "pygments_lexer": "ipython3",
   "version": "3.13.2"
  }
 },
 "nbformat": 4,
 "nbformat_minor": 5
}
