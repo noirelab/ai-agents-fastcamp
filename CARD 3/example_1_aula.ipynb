{
 "cells": [
  {
   "cell_type": "code",
   "execution_count": null,
   "id": "15cf3980",
   "metadata": {},
   "outputs": [],
   "source": [
    "from enum import auto, IntFlag\n",
    "from typing import Any\n",
    "\n",
    "# importações do pydantic\n",
    "from pydantic import (\n",
    "    BaseModel,\n",
    "    EmailStr,\n",
    "    Field,\n",
    "    SecretStr,\n",
    "    ValidationError,\n",
    ")"
   ]
  },
  {
   "cell_type": "code",
   "execution_count": null,
   "id": "8230ad5b",
   "metadata": {},
   "outputs": [],
   "source": [
    "class Role(IntFlag):\n",
    "    Author = auto()\n",
    "    Editor = auto()\n",
    "    Developer = auto()\n",
    "    Admin = Author | Editor | Developer # é todos"
   ]
  },
  {
   "cell_type": "code",
   "execution_count": null,
   "id": "ecaaf726",
   "metadata": {},
   "outputs": [],
   "source": [
    "# herda da classe do pydantic\n",
    "class User(BaseModel):\n",
    "    name: str = Field(examples=[\"Arjan\"])\n",
    "    email: EmailStr = Field(\n",
    "        examples=[\"example@arjancodes.com\"],            # manda um exemplo pela função Field\n",
    "        description=\"The email address of the user\",    # descrição do campo\n",
    "        frozen=True,                                    # só seta, não altera\n",
    "    )\n",
    "\n",
    "    # quando printar a senha, mostra *****\n",
    "    password: SecretStr = Field(\n",
    "        examples=[\"Password123\"], description=\"The password of the user\"\n",
    "    )\n",
    "    role: Role = Field(default=None, description=\"The role of the user\")"
   ]
  },
  {
   "cell_type": "code",
   "execution_count": null,
   "id": "13ee16e0",
   "metadata": {},
   "outputs": [],
   "source": [
    "# função para validar os dados\n",
    "\n",
    "def validate(data: dict[str, Any]) -> None:\n",
    "    try:\n",
    "        user = User.model_validate(data)\n",
    "        print(user)\n",
    "\n",
    "    except ValidationError as e: # se inválido, printa todos os erros\n",
    "        print(\"User is invalid\")\n",
    "\n",
    "        for error in e.errors():\n",
    "            print(error)"
   ]
  },
  {
   "cell_type": "code",
   "execution_count": null,
   "id": "bdd15d20",
   "metadata": {},
   "outputs": [
    {
     "name": "stdout",
     "output_type": "stream",
     "text": [
      "-- good_data --\n",
      "name='Arjan' email='example@arjancodes.com' password=SecretStr('**********') role=None\n",
      "\n",
      "-- bad_data --\n",
      "User is invalid\n",
      "{'type': 'missing', 'loc': ('name',), 'msg': 'Field required', 'input': {'email': '<bad data>', 'password': '<bad data>'}, 'url': 'https://errors.pydantic.dev/2.10/v/missing'}\n",
      "{'type': 'value_error', 'loc': ('email',), 'msg': 'value is not a valid email address: An email address must have an @-sign.', 'input': '<bad data>', 'ctx': {'reason': 'An email address must have an @-sign.'}}\n"
     ]
    }
   ],
   "source": [
    "good_data = {\n",
    "    \"name\": \"Arjan\",\n",
    "    \"email\": \"example@arjancodes.com\",\n",
    "    \"password\": \"Password123\",\n",
    "}\n",
    "\n",
    "bad_data = {\"email\": \"<bad data>\", \"password\": \"<bad data>\"}\n",
    "\n",
    "# validou que os dados estão corretos e printou a senha com ***\n",
    "print('-- good_data --')\n",
    "validate(good_data)\n",
    "\n",
    "# validou que os dados estão incorretos e printou os erros\n",
    "print('\\n-- bad_data --')\n",
    "validate(bad_data)"
   ]
  },
  {
   "cell_type": "code",
   "execution_count": null,
   "id": "0b0723d3",
   "metadata": {},
   "outputs": [],
   "source": []
  }
 ],
 "metadata": {
  "kernelspec": {
   "display_name": "base",
   "language": "python",
   "name": "python3"
  },
  "language_info": {
   "codemirror_mode": {
    "name": "ipython",
    "version": 3
   },
   "file_extension": ".py",
   "mimetype": "text/x-python",
   "name": "python",
   "nbconvert_exporter": "python",
   "pygments_lexer": "ipython3",
   "version": "3.13.2"
  }
 },
 "nbformat": 4,
 "nbformat_minor": 5
}
